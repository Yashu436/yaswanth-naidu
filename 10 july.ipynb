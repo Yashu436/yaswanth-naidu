{
 "cells": [
  {
   "cell_type": "code",
   "execution_count": 1,
   "metadata": {},
   "outputs": [
    {
     "name": "stdout",
     "output_type": "stream",
     "text": [
      "{'gitam': 'hyderabad', 'address': 'vizag'}\n"
     ]
    }
   ],
   "source": [
    "s2={\"gitam\":\"hyderabad\",\"address\":\"vizag\"}\n",
    "print(s2)"
   ]
  },
  {
   "cell_type": "markdown",
   "metadata": {},
   "source": [
    "### dictionaries\n",
    "~it works on the concept of set unique data\n",
    "~keys values are the unique identifiers for the value\n",
    "~each key is separated from its value with colon(:)\n",
    "~each key and value is separated by comma(,)\n",
    "~dictionaries enclosed by curly braces({})"
   ]
  },
  {
   "cell_type": "code",
   "execution_count": 2,
   "metadata": {},
   "outputs": [
    {
     "name": "stdout",
     "output_type": "stream",
     "text": [
      "{'address': 'vizag'}\n"
     ]
    }
   ],
   "source": [
    "s2={\"gitam\":\"hyderabad\",\"address\":\"vizag\"}\n",
    "del s2['gitam']\n",
    "print(s2)"
   ]
  },
  {
   "cell_type": "code",
   "execution_count": 3,
   "metadata": {},
   "outputs": [
    {
     "data": {
      "text/plain": [
       "dict_values(['vizag'])"
      ]
     },
     "execution_count": 3,
     "metadata": {},
     "output_type": "execute_result"
    }
   ],
   "source": [
    "s2.values()"
   ]
  },
  {
   "cell_type": "code",
   "execution_count": 4,
   "metadata": {},
   "outputs": [
    {
     "data": {
      "text/plain": [
       "dict_keys(['address'])"
      ]
     },
     "execution_count": 4,
     "metadata": {},
     "output_type": "execute_result"
    }
   ],
   "source": [
    "s2.keys()"
   ]
  },
  {
   "cell_type": "markdown",
   "metadata": {},
   "source": [
    "# tuples\n",
    "1. t1 paranthesis() li square brackets[]\n",
    "2. difference b/w list & tuples\n",
    "    (i)list are mutable-can be changed/modified\n",
    "    ~used to acces modify,add,delete data\n",
    "    (ii)tuplse are un mutable-cannot be changed\n",
    "    ~used to acces data only"
   ]
  },
  {
   "cell_type": "code",
   "execution_count": 5,
   "metadata": {},
   "outputs": [
    {
     "data": {
      "text/plain": [
       "tuple"
      ]
     },
     "execution_count": 5,
     "metadata": {},
     "output_type": "execute_result"
    }
   ],
   "source": [
    "t1=(1,2,3,4,5,6)\n",
    "t1\n",
    "type(t1)"
   ]
  },
  {
   "cell_type": "code",
   "execution_count": 9,
   "metadata": {},
   "outputs": [
    {
     "name": "stdout",
     "output_type": "stream",
     "text": [
      "contact in details are added\n",
      "contact in details are added\n",
      "contact in details are alredy exits\n"
     ]
    }
   ],
   "source": [
    "### add contact\n",
    "contacts={}\n",
    "def addcontact(name,phone):\n",
    "    if name not in contacts:\n",
    "        contacts[name]=phone\n",
    "        print(\"contact in details are added\")\n",
    "    else:\n",
    "        print(\"contact in details are alredy exits\")\n",
    "    return\n",
    "addcontact(\"nusi\",\"9347081154\")\n",
    "addcontact(\"ammma\",\"9553250307\")\n",
    "addcontact(\"nusi\",\"9347081154\")"
   ]
  },
  {
   "cell_type": "code",
   "execution_count": 11,
   "metadata": {},
   "outputs": [
    {
     "name": "stdout",
     "output_type": "stream",
     "text": [
      "nusi : 9347081154\n",
      "jagggu does not exists\n",
      "ammma : 9553250307\n"
     ]
    }
   ],
   "source": [
    "def searchcontact(name):\n",
    "    if name in contacts:\n",
    "        print(name,\":\",contacts[name])\n",
    "    else:\n",
    "        print(\"%s does not exists\"% name)\n",
    "    return\n",
    "searchcontact('nusi')\n",
    "searchcontact('jagggu')\n",
    "searchcontact('ammma')"
   ]
  },
  {
   "cell_type": "code",
   "execution_count": 12,
   "metadata": {},
   "outputs": [
    {
     "name": "stdout",
     "output_type": "stream",
     "text": [
      "2 contacts added successfully\n"
     ]
    }
   ],
   "source": [
    "#import same contacts\n",
    "#merge the contacts with the existing one\n",
    "def importcontacts(newcontacts):\n",
    "    contacts.update(newcontacts)\n",
    "    print(len(newcontacts.keys()),\"contacts added successfully\")\n",
    "    return\n",
    "newcontacts={'pqr':123456,'abc':789456}\n",
    "importcontacts(newcontacts)\n"
   ]
  },
  {
   "cell_type": "code",
   "execution_count": 13,
   "metadata": {},
   "outputs": [
    {
     "name": "stdout",
     "output_type": "stream",
     "text": [
      "ajay not exists\n"
     ]
    }
   ],
   "source": [
    "#delete a contact\n",
    "def deletecontact(name):\n",
    "    if name in contacts:\n",
    "        del contacts[name]\n",
    "        print(name,\"deleted succesfully\")\n",
    "    else:\n",
    "        print(name,\"not exists\")\n",
    "    return\n",
    "deletecontact(\"ajay\")"
   ]
  },
  {
   "cell_type": "code",
   "execution_count": 17,
   "metadata": {},
   "outputs": [
    {
     "name": "stdout",
     "output_type": "stream",
     "text": [
      "nusi updated succesfully\n",
      "ajay not exists\n"
     ]
    }
   ],
   "source": [
    "#update contact\n",
    "def deletecontact(name,phone):\n",
    "    if name in contacts:\n",
    "        contacts[name]\n",
    "        print(name,\"updated succesfully\")\n",
    "    else:\n",
    "        print(name,\"not exists\")\n",
    "    return\n",
    "deletecontact(\"nusi\",9347084154)\n",
    "deletecontact(\"ajay\",9959676532)"
   ]
  },
  {
   "cell_type": "code",
   "execution_count": 20,
   "metadata": {},
   "outputs": [
    {
     "name": "stdout",
     "output_type": "stream",
     "text": [
      "21 13 8 5 3 2 1 1 0 "
     ]
    }
   ],
   "source": [
    "##Python 3 Program to print Fibonacci \n",
    "# series in reverse order   \n",
    "def reverseFibonacci(n):\n",
    "    a = [0] * n      \n",
    "    a[0] = 0 \n",
    "    a[1] = 1   \n",
    "    for i in range(2, n):           \n",
    "        a[i] = a[i - 2] + a[i - 1]    \n",
    "    for i in range(n - 1, -1 , -1):                     \n",
    "        print(a[i],end=\" \")              \n",
    "n = 9\n",
    "reverseFibonacci(n)\n"
   ]
  },
  {
   "cell_type": "code",
   "execution_count": 21,
   "metadata": {},
   "outputs": [
    {
     "name": "stdout",
     "output_type": "stream",
     "text": [
      "w h\n",
      "a i\n",
      "t g\n",
      "e h\n",
      "r r\n"
     ]
    }
   ],
   "source": [
    "s1=\"water\"\n",
    "s2=\"highr\"\n",
    "for i in range(len(s1)):\n",
    "    print(s1[i],s2[i])"
   ]
  },
  {
   "cell_type": "code",
   "execution_count": 24,
   "metadata": {},
   "outputs": [
    {
     "name": "stdout",
     "output_type": "stream",
     "text": [
      "python programming\n"
     ]
    }
   ],
   "source": [
    "list=[\"python\",\"programming\"]\n",
    "print(\"%s %s\" % (list[0],list[1]))"
   ]
  },
  {
   "cell_type": "code",
   "execution_count": 25,
   "metadata": {},
   "outputs": [
    {
     "name": "stdout",
     "output_type": "stream",
     "text": [
      " python programming\n"
     ]
    }
   ],
   "source": [
    "print(\" {0} {1}\". format ( list[0],list[1]))"
   ]
  },
  {
   "cell_type": "markdown",
   "metadata": {},
   "source": [
    "# string functions\n",
    "upper()== will convert into upper case\n",
    "lower()== will convert into lower case\n"
   ]
  },
  {
   "cell_type": "code",
   "execution_count": 30,
   "metadata": {},
   "outputs": [
    {
     "data": {
      "text/plain": [
       "'GITAM'"
      ]
     },
     "execution_count": 30,
     "metadata": {},
     "output_type": "execute_result"
    }
   ],
   "source": [
    "st=\"gitam\"\n",
    "st.upper()\n",
    "st.lower()\n",
    "st.upper()\n"
   ]
  },
  {
   "cell_type": "code",
   "execution_count": 31,
   "metadata": {},
   "outputs": [
    {
     "name": "stdout",
     "output_type": "stream",
     "text": [
      "1 2 3 4 5 \n"
     ]
    }
   ],
   "source": [
    "list=[1,2,3,4,5]\n",
    "print(\"%d %d %d %d %d \" % (list[0],list[1],list[2],list[3],list[4]))"
   ]
  },
  {
   "cell_type": "code",
   "execution_count": null,
   "metadata": {},
   "outputs": [],
   "source": [
    "## string functions\n",
    "--> islower()-true if string is lower case/false if the string is not lower case\n",
    "--> isupper()-true if string is upper case/false if the string is not upper case\n",
    "--> istitle()-true if the string follows the title case\n",
    "--> isalpha()-true if the string has only alphabets\n",
    "--> isnumeric()-true if the string has numbers\n",
    "--> isspace()-true if the string has only empty space"
   ]
  },
  {
   "cell_type": "code",
   "execution_count": 32,
   "metadata": {},
   "outputs": [
    {
     "name": "stdout",
     "output_type": "stream",
     "text": [
      "False\n",
      "True\n"
     ]
    }
   ],
   "source": [
    "s1=\"GITAM\"\n",
    "print(s1.islower())\n",
    "print(s1.isupper())"
   ]
  },
  {
   "cell_type": "code",
   "execution_count": 39,
   "metadata": {},
   "outputs": [
    {
     "name": "stdout",
     "output_type": "stream",
     "text": [
      "False\n",
      "True\n"
     ]
    }
   ],
   "source": [
    "s2=\"Python programming\"\n",
    "s3=\"Python Programming\"\n",
    "print(s2.istitle())\n",
    "print(s3.istitle())"
   ]
  },
  {
   "cell_type": "code",
   "execution_count": 40,
   "metadata": {},
   "outputs": [
    {
     "name": "stdout",
     "output_type": "stream",
     "text": [
      "True\n",
      "False\n"
     ]
    }
   ],
   "source": [
    "st=\"gitam\"\n",
    "sr=\"yashu436\"\n",
    "print(st.isalpha())\n",
    "print(sr.isalpha())"
   ]
  },
  {
   "cell_type": "code",
   "execution_count": 41,
   "metadata": {},
   "outputs": [
    {
     "name": "stdout",
     "output_type": "stream",
     "text": [
      "True\n",
      "False\n"
     ]
    }
   ],
   "source": [
    "s1=\"1234\"\n",
    "s2=\"yashu436\"\n",
    "print(s1.isnumeric())\n",
    "print(s2.isnumeric())"
   ]
  },
  {
   "cell_type": "code",
   "execution_count": 42,
   "metadata": {},
   "outputs": [
    {
     "name": "stdout",
     "output_type": "stream",
     "text": [
      "True\n",
      "False\n"
     ]
    }
   ],
   "source": [
    "s1=\"  \"\n",
    "s2=\"py th on\"\n",
    "print(s1.isspace())\n",
    "print(s2.isspace())"
   ]
  },
  {
   "cell_type": "markdown",
   "metadata": {},
   "source": [
    "# string methods\n",
    "join()- method will \n",
    "split()"
   ]
  },
  {
   "cell_type": "code",
   "execution_count": 45,
   "metadata": {},
   "outputs": [
    {
     "name": "stdout",
     "output_type": "stream",
     "text": [
      "p y t h o n\n"
     ]
    }
   ],
   "source": [
    "s1=\"python\"\n",
    "print(\" \".join(s1))"
   ]
  },
  {
   "cell_type": "code",
   "execution_count": 46,
   "metadata": {},
   "outputs": [
    {
     "name": "stdout",
     "output_type": "stream",
     "text": [
      "p,y,t,h,o,n, ,p,r,o,g,r,a,m,m,i,n,g, ,e,a,s,y, ,t,o, ,l,e,a,r,n\n"
     ]
    }
   ],
   "source": [
    "s2=\"python programming easy to learn\"\n",
    "print(\",\".join(s2))"
   ]
  },
  {
   "cell_type": "code",
   "execution_count": 49,
   "metadata": {},
   "outputs": [
    {
     "name": "stdout",
     "output_type": "stream",
     "text": [
      "python.programmiing.learn\n"
     ]
    }
   ],
   "source": [
    "li=[\"python\",\"programmiing\",\"learn\"]\n",
    "print(\".\".join(li))"
   ]
  },
  {
   "cell_type": "code",
   "execution_count": 52,
   "metadata": {},
   "outputs": [
    {
     "name": "stdout",
     "output_type": "stream",
     "text": [
      "['python', 'programming', 'easy', 'to', 'learn']\n"
     ]
    }
   ],
   "source": [
    "s2=\"python programming easy to learn\"\n",
    "print(s2.split())\n"
   ]
  },
  {
   "cell_type": "code",
   "execution_count": 54,
   "metadata": {},
   "outputs": [
    {
     "name": "stdout",
     "output_type": "stream",
     "text": [
      "['python progr', 'mming e', 'sy to le', 'rn']\n"
     ]
    }
   ],
   "source": [
    "s2=\"python programming easy to learn\"\n",
    "print(s2.split('a'))\n"
   ]
  },
  {
   "cell_type": "code",
   "execution_count": 58,
   "metadata": {},
   "outputs": [
    {
     "name": "stdout",
     "output_type": "stream",
     "text": [
      "['python', 'programming', 'easy', 'to', 'learn']\n",
      "5\n"
     ]
    }
   ],
   "source": [
    "s2=\"python programming easy to learn\"\n",
    "li=s2.split()\n",
    "print(li)\n",
    "print(len(li))"
   ]
  },
  {
   "cell_type": "code",
   "execution_count": 2,
   "metadata": {},
   "outputs": [
    {
     "name": "stdout",
     "output_type": "stream",
     "text": [
      "['p', 'y', 't', 'h', 'o', 'n', ' ', 'p', 'r', 'o', 'g', 'r', 'a', 'm', 'm', 'i', 'n', 'g', ' ', 'e', 'a', 's', 'y', ' ', 't', 'o', ' ', 'l', 'e', 'a', 'r', 'n']\n"
     ]
    }
   ],
   "source": [
    "s2=\"python programming easy to learn\"\n",
    "li=list(s2)\n",
    "print(li)"
   ]
  },
  {
   "cell_type": "code",
   "execution_count": null,
   "metadata": {},
   "outputs": [],
   "source": []
  }
 ],
 "metadata": {
  "kernelspec": {
   "display_name": "Python 3",
   "language": "python",
   "name": "python3"
  },
  "language_info": {
   "codemirror_mode": {
    "name": "ipython",
    "version": 3
   },
   "file_extension": ".py",
   "mimetype": "text/x-python",
   "name": "python",
   "nbconvert_exporter": "python",
   "pygments_lexer": "ipython3",
   "version": "3.7.3"
  }
 },
 "nbformat": 4,
 "nbformat_minor": 2
}
