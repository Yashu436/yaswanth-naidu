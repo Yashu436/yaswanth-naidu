{
 "cells": [
  {
   "cell_type": "code",
   "execution_count": 1,
   "metadata": {},
   "outputs": [
    {
     "name": "stdout",
     "output_type": "stream",
     "text": [
      "21 13 8 5 3 2 1 1 0 "
     ]
    }
   ],
   "source": [
    "##Python 3 Program to print Fibonacci \n",
    "# series in reverse order   \n",
    "def reverseFibonacci(n):\n",
    "    a = [0] * n      \n",
    "    a[0] = 0 \n",
    "    a[1] = 1   \n",
    "    for i in range(2, n):           \n",
    "        a[i] = a[i - 2] + a[i - 1]    \n",
    "    for i in range(n - 1, -1 , -1):                     \n",
    "        print(a[i],end=\" \")              \n",
    "n = 9\n",
    "reverseFibonacci(n)"
   ]
  },
  {
   "cell_type": "code",
   "execution_count": 3,
   "metadata": {},
   "outputs": [
    {
     "name": "stdout",
     "output_type": "stream",
     "text": [
      "['2', '1', '3', '4', '5', '6']\n"
     ]
    },
    {
     "data": {
      "text/plain": [
       "21"
      ]
     },
     "execution_count": 3,
     "metadata": {},
     "output_type": "execute_result"
    }
   ],
   "source": [
    "#assesment Q2\n",
    "def number(n,s):\n",
    "    ns=list(s)\n",
    "    sum=0\n",
    "    co=0\n",
    "    print(ns)\n",
    "    for i in range(n):\n",
    "        count=ns.count(ns[i])\n",
    "        if count==1:\n",
    "            sum=sum+int(ns[i])\n",
    "        elif count>=2:\n",
    "            co=co+1          \n",
    "    if co==len(ns):\n",
    "        print(\"-1\")\n",
    "    return sum\n",
    "s=\"213456\"\n",
    "number(6,s)"
   ]
  },
  {
   "cell_type": "code",
   "execution_count": 4,
   "metadata": {},
   "outputs": [
    {
     "name": "stdout",
     "output_type": "stream",
     "text": [
      "w n\n",
      "a a\n",
      "t i\n",
      "e l\n",
      "r s\n"
     ]
    }
   ],
   "source": [
    "#assesement Q3\n",
    "s1=\"water\"\n",
    "s2=\"nails\"\n",
    "for i in range(len(s1)):\n",
    "    print(s1[i],s2[i])"
   ]
  },
  {
   "cell_type": "code",
   "execution_count": 4,
   "metadata": {},
   "outputs": [
    {
     "name": "stdout",
     "output_type": "stream",
     "text": [
      "1\n",
      "3\n",
      "9\n",
      "27\n",
      "81\n",
      "243\n"
     ]
    }
   ],
   "source": [
    "#assesment Q10\n",
    "def threepower(n):\n",
    "    for i in range(n):\n",
    "        k=3**i\n",
    "        print(k)\n",
    "    return\n",
    "threepower(6)\n"
   ]
  },
  {
   "cell_type": "code",
   "execution_count": 5,
   "metadata": {},
   "outputs": [
    {
     "name": "stdout",
     "output_type": "stream",
     "text": [
      "1\n",
      "2\n",
      "4\n",
      "8\n",
      "16\n",
      "32\n",
      "64\n",
      "128\n",
      "256\n",
      "512\n"
     ]
    }
   ],
   "source": [
    "#assesment Q11\n",
    "def twopower(n):\n",
    "    for i in range(n):\n",
    "        k=2**i\n",
    "        print(k)\n",
    "    return\n",
    "twopower(10)"
   ]
  },
  {
   "cell_type": "code",
   "execution_count": 6,
   "metadata": {},
   "outputs": [
    {
     "name": "stdout",
     "output_type": "stream",
     "text": [
      "1!+2!+3!+4!+5!+6!+7!+8!+"
     ]
    }
   ],
   "source": [
    "#individual digits factorial sum assesment Q14\n",
    "def sum(n):\n",
    "    for i in range(1,n+1):\n",
    "        fact=1\n",
    "        if i<=n:\n",
    "            print(i,end=\"!+\")\n",
    "    return \n",
    "sum(8)"
   ]
  },
  {
   "cell_type": "code",
   "execution_count": 7,
   "metadata": {},
   "outputs": [
    {
     "name": "stdout",
     "output_type": "stream",
     "text": [
      "a d\n",
      "b e\n",
      "c f\n",
      "d g\n"
     ]
    }
   ],
   "source": [
    "#assesment Q9\n",
    "s1=(\"abcd\")\n",
    "s2=(\"defg\")\n",
    "for i in  range(len(s1)):\n",
    "    print(s1[i],s2[i])"
   ]
  },
  {
   "cell_type": "markdown",
   "metadata": {},
   "source": [
    " def Q2(n):\n",
    "    a=[]\n",
    "    s=0\n",
    "    for i in range(n):\n",
    "        a.append(int(input()))\n",
    "    for i in range(n):\n",
    "        c=0\n",
    "        for j in range(n):\n",
    "            if i!=j:\n",
    "                if a[i]==a[j]:\n",
    "                    c+=1\n",
    "        if c==0:\n",
    "            s=s+a[i]\n",
    "    return s\n",
    "Q2(int(input(\"no of values\")))"
   ]
  },
  {
   "cell_type": "code",
   "execution_count": 3,
   "metadata": {},
   "outputs": [
    {
     "name": "stdout",
     "output_type": "stream",
     "text": [
      "no of values5\n",
      "1\n",
      "2\n",
      "3\n",
      "4\n",
      "5\n"
     ]
    },
    {
     "data": {
      "text/plain": [
       "15"
      ]
     },
     "execution_count": 3,
     "metadata": {},
     "output_type": "execute_result"
    }
   ],
   "source": [
    "def Q2(n):\n",
    "   a=[]\n",
    "   s=0\n",
    "   for i in range(n):\n",
    "       a.append(int(input()))\n",
    "   for i in range(n):\n",
    "       c=0\n",
    "       for j in range(n):\n",
    "           if i!=j:\n",
    "              if a[i]==a[j]:\n",
    "                 c+=1\n",
    "       if c==0:\n",
    "           s=s+a[i]\n",
    "   return s\n",
    "Q2(int(input(\"no of values\")))\n"
   ]
  },
  {
   "cell_type": "code",
   "execution_count": 10,
   "metadata": {},
   "outputs": [
    {
     "name": "stdout",
     "output_type": "stream",
     "text": [
      "enter num5643\n",
      "*****\n",
      "******\n",
      "****\n",
      "***\n"
     ]
    }
   ],
   "source": [
    "def Q7(n):\n",
    "   for i in range(len(n)):\n",
    "       n[i]=int(n[i])\n",
    "   for i in range(len(n)):\n",
    "       for j in range(n[i]):\n",
    "           print(\"*\",end=\"\")\n",
    "       print(\"\")\n",
    "   return\n",
    "x=input(\"enter num\")\n",
    "Q7(list(x))"
   ]
  },
  {
   "cell_type": "code",
   "execution_count": 9,
   "metadata": {},
   "outputs": [
    {
     "name": "stdout",
     "output_type": "stream",
     "text": [
      "enter str:yashu kata\n",
      "YASHU\n"
     ]
    }
   ],
   "source": [
    "def Q4(a,b):\n",
    " if len(a)>=len(b):\n",
    "      print(a.upper())\n",
    " else:\n",
    "      print(b.upper())\n",
    " return\n",
    "x=str(input(\"enter str:\"))\n",
    "x=x.split()\n",
    "Q4(x[0],x[1])"
   ]
  }
 ],
 "metadata": {
  "kernelspec": {
   "display_name": "Python 3",
   "language": "python",
   "name": "python3"
  },
  "language_info": {
   "codemirror_mode": {
    "name": "ipython",
    "version": 3
   },
   "file_extension": ".py",
   "mimetype": "text/x-python",
   "name": "python",
   "nbconvert_exporter": "python",
   "pygments_lexer": "ipython3",
   "version": "3.7.3"
  }
 },
 "nbformat": 4,
 "nbformat_minor": 2
}
