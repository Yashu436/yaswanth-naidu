{
 "cells": [
  {
   "cell_type": "code",
   "execution_count": null,
   "metadata": {},
   "outputs": [],
   "source": [
    "##standard libraries\n",
    "file I/o\n",
    "regular expression\n",
    "date time\n",
    "math(numerical and mathematical)"
   ]
  },
  {
   "cell_type": "markdown",
   "metadata": {},
   "source": [
    "# file hanlding in python\n",
    "--> file document containing information resides on the permanent storage\n",
    "--> different types of files : txt,pdf,doc,csv,and tc....\n",
    "--> input: keyboard\n",
    "--> output: file\n"
   ]
  },
  {
   "cell_type": "markdown",
   "metadata": {},
   "source": [
    "# # modes of file I/O\n",
    "--> 'w': this mode is used to file writing\n",
    "--> if the file is not present first it creates the file and write to me data to it\n",
    "--> if the file is already presnt then it will rewrite the previous content"
   ]
  },
  {
   "cell_type": "code",
   "execution_count": 7,
   "metadata": {},
   "outputs": [
    {
     "name": "stdout",
     "output_type": "stream",
     "text": [
      "the file is created and data is written\n"
     ]
    }
   ],
   "source": [
    "## function to create a file and write to the file\n",
    "def createfile(filename):\n",
    "    f=open(filename,'w')\n",
    "    for i in range (10):\n",
    "        f.write('this is %d line\\n'%i)\n",
    "    print(\"the file is created and data is written\")\n",
    "    return\n",
    "createfile('file.txt')"
   ]
  },
  {
   "cell_type": "code",
   "execution_count": 8,
   "metadata": {},
   "outputs": [
    {
     "name": "stdout",
     "output_type": "stream",
     "text": [
      " Volume in drive C has no label.\n",
      " Volume Serial Number is C47C-A5DB\n",
      "\n",
      " Directory of C:\\Users\\250\n",
      "\n",
      "07/11/2019  03:09 PM    <DIR>          .\n",
      "07/11/2019  03:09 PM    <DIR>          ..\n",
      "05/08/2019  12:49 PM    <DIR>          .anaconda\n",
      "01/23/2017  01:51 PM    <DIR>          .android\n",
      "01/23/2017  01:45 PM    <DIR>          .AndroidStudio2.2\n",
      "03/14/2017  10:28 AM               145 .appletviewer\n",
      "06/19/2019  06:14 PM                21 .bash_history\n",
      "11/02/2017  03:27 PM                 0 .cdtclient\n",
      "07/06/2019  02:49 PM    <DIR>          .conda\n",
      "07/06/2019  02:49 PM                43 .condarc\n",
      "05/19/2019  12:21 PM    <DIR>          .continuum\n",
      "03/30/2017  10:42 AM    <DIR>          .gradle\n",
      "07/11/2019  02:40 PM    <DIR>          .ipynb_checkpoints\n",
      "05/08/2019  02:13 PM    <DIR>          .ipython\n",
      "05/14/2019  01:57 PM    <DIR>          .jupyter\n",
      "05/10/2019  03:44 PM    <DIR>          .matplotlib\n",
      "03/06/2019  11:13 AM    <DIR>          .oracle_jre_usage\n",
      "05/10/2019  03:45 PM    <DIR>          .spyder-py3\n",
      "07/10/2019  10:08 PM            18,438 10 july.ipynb\n",
      "12/06/2016  10:16 AM    <DIR>          2201315451\n",
      "05/08/2019  12:47 PM    <DIR>          Anaconda3\n",
      "01/23/2017  01:52 PM    <DIR>          AndroidStudioProjects\n",
      "11/23/2016  02:44 PM    <DIR>          Contacts\n",
      "12/06/2016  10:16 AM    <DIR>          cseb4_451\n",
      "07/06/2019  09:40 PM    <DIR>          Desktop\n",
      "06/27/2019  03:32 PM             3,450 desktop.ipynb\n",
      "05/19/2019  02:56 PM    <DIR>          Documents\n",
      "07/09/2019  02:51 PM    <DIR>          Downloads\n",
      "11/23/2016  02:44 PM    <DIR>          Favorites\n",
      "07/11/2019  03:09 PM               160 file.txt\n",
      "06/27/2019  03:30 PM               160 file1.txt\n",
      "03/08/2019  02:14 PM               408 java.http\n",
      "03/08/2019  02:15 PM               408 java1.http\n",
      "07/10/2019  10:39 PM             6,859 july 10 assesment.ipynb\n",
      "07/11/2019  03:09 PM             1,965 july 11.ipynb\n",
      "07/08/2019  10:07 PM            15,606 july 8.ipynb\n",
      "07/10/2019  02:49 PM            13,574 july 9.ipynb\n",
      "05/18/2019  11:40 AM    <DIR>          Karthik\n",
      "11/23/2016  02:44 PM    <DIR>          Links\n",
      "11/23/2016  02:44 PM    <DIR>          Music\n",
      "11/23/2016  02:44 PM    <DIR>          Pictures\n",
      "11/23/2016  02:44 PM    <DIR>          Saved Games\n",
      "09/14/2018  09:07 AM    <DIR>          Searches\n",
      "06/21/2019  08:31 PM               555 Untitled.ipynb\n",
      "06/22/2019  04:06 PM               923 Untitled1.ipynb\n",
      "06/28/2019  03:27 PM             1,824 Untitled10.ipynb\n",
      "06/24/2019  03:30 PM               763 Untitled2.ipynb\n",
      "06/24/2019  04:39 PM             2,357 Untitled3.ipynb\n",
      "06/25/2019  05:44 PM             2,932 Untitled4.ipynb\n",
      "06/26/2019  04:20 PM             2,581 Untitled5.ipynb\n",
      "06/26/2019  03:09 PM               555 Untitled6.ipynb\n",
      "06/26/2019  03:55 PM               854 Untitled7.ipynb\n",
      "06/27/2019  03:27 PM             5,334 Untitled8.ipynb\n",
      "06/27/2019  03:13 PM               555 Untitled9.ipynb\n",
      "11/23/2016  02:44 PM    <DIR>          Videos\n",
      "06/25/2018  09:25 AM    <DIR>          workspace\n",
      "              25 File(s)         80,470 bytes\n",
      "              31 Dir(s)  66,813,730,816 bytes free\n"
     ]
    }
   ],
   "source": [
    "ls\n"
   ]
  },
  {
   "cell_type": "code",
   "execution_count": 14,
   "metadata": {},
   "outputs": [
    {
     "name": "stdout",
     "output_type": "stream",
     "text": [
      "the file is created and data is written\n"
     ]
    }
   ],
   "source": [
    "def appenddata(filename):\n",
    "    f=open(filename,'a')\n",
    "    for i in range (10):\n",
    "        f.write('this is %d line\\n'%i)\n",
    "    print(\"the file is created and data is written\")\n",
    "    return\n",
    "appenddata('file2.txt')"
   ]
  },
  {
   "cell_type": "code",
   "execution_count": 11,
   "metadata": {},
   "outputs": [
    {
     "name": "stdout",
     "output_type": "stream",
     "text": [
      "the file is created and data is written\n"
     ]
    }
   ],
   "source": [
    "def createfile(filename):\n",
    "    f=open(filename,'w')\n",
    "    f.write('testing\\n')        \n",
    "    print(\"the file is created and data is written\")\n",
    "    return\n",
    "createfile('file1.txt')"
   ]
  },
  {
   "cell_type": "code",
   "execution_count": 15,
   "metadata": {},
   "outputs": [
    {
     "name": "stdout",
     "output_type": "stream",
     "text": [
      "the file is created and data is written\n"
     ]
    }
   ],
   "source": [
    "def appenddata(filename):\n",
    "    f=open(filename,'a')\n",
    "    f.write(\"new line 1\\n\")\n",
    "    f.write(\"new line 2\\n\")\n",
    "    print(\"the file is created and data is written\")\n",
    "    return\n",
    "appenddata('file2.txt')"
   ]
  },
  {
   "cell_type": "code",
   "execution_count": 17,
   "metadata": {},
   "outputs": [
    {
     "name": "stdout",
     "output_type": "stream",
     "text": [
      "this is 0 line\n",
      "this is 1 line\n",
      "this is 2 line\n",
      "this is 3 line\n",
      "this is 4 line\n",
      "this is 5 line\n",
      "this is 6 line\n",
      "this is 7 line\n",
      "this is 8 line\n",
      "this is 9 line\n",
      "this is 0 line\n",
      "this is 1 line\n",
      "this is 2 line\n",
      "this is 3 line\n",
      "this is 4 line\n",
      "this is 5 line\n",
      "this is 6 line\n",
      "this is 7 line\n",
      "this is 8 line\n",
      "this is 9 line\n",
      "this is 0 line\n",
      "this is 1 line\n",
      "this is 2 line\n",
      "this is 3 line\n",
      "this is 4 line\n",
      "this is 5 line\n",
      "this is 6 line\n",
      "this is 7 line\n",
      "this is 8 line\n",
      "this is 9 line\n",
      "new line 1\n",
      "new line 2\n",
      "\n"
     ]
    }
   ],
   "source": [
    "## function to read of the file\n",
    "def readfiledata(filename):\n",
    "    f=open(filename,'r')\n",
    "    if f.mode=='r':\n",
    "        x=f.read()\n",
    "        print(x)\n",
    "    f.close()\n",
    "    return\n",
    "readfiledata('file2.txt')"
   ]
  },
  {
   "cell_type": "code",
   "execution_count": 5,
   "metadata": {},
   "outputs": [
    {
     "name": "stdout",
     "output_type": "stream",
     "text": [
      "enter the file namefile1.txt\n",
      "enter the mode of filer\n",
      "testing\n",
      "\n"
     ]
    }
   ],
   "source": [
    "## function to raead the file\n",
    "def fileoperation(filename,mode):\n",
    "    with open(filename,mode) as f:\n",
    "        if f.mode=='r':\n",
    "            data=f.read()\n",
    "            print(data)\n",
    "        elif f.mode=='a':\n",
    "            f.write('data to the file')\n",
    "            print('the data succesfully written')\n",
    "    f.close()\n",
    "    return\n",
    "filename=input('enter the file name')\n",
    "mode=input('enter the mode of file')\n",
    "fileoperation(filename,mode)"
   ]
  },
  {
   "cell_type": "code",
   "execution_count": 7,
   "metadata": {},
   "outputs": [
    {
     "name": "stdout",
     "output_type": "stream",
     "text": [
      "enter a filename:file1.txt\n",
      "enter wordtesting\n"
     ]
    },
    {
     "data": {
      "text/plain": [
       "1"
      ]
     },
     "execution_count": 7,
     "metadata": {},
     "output_type": "execute_result"
    }
   ],
   "source": [
    "## data analysis\n",
    "## word count program\n",
    "def wordcount(filename,word):\n",
    "    with open(filename,'r') as f:\n",
    "        if f.mode=='r':\n",
    "            x=f.read()\n",
    "            li=x.split()\n",
    "    cnt=li.count(word)\n",
    "    return cnt\n",
    "filename=input('enter a filename:')\n",
    "word=input('enter word')\n",
    "wordcount(filename,word)"
   ]
  },
  {
   "cell_type": "code",
   "execution_count": 9,
   "metadata": {},
   "outputs": [
    {
     "name": "stdout",
     "output_type": "stream",
     "text": [
      "enter the filenamefile2.txt\n",
      "enter the wordt\n"
     ]
    },
    {
     "data": {
      "text/plain": [
       "30"
      ]
     },
     "execution_count": 9,
     "metadata": {},
     "output_type": "execute_result"
    }
   ],
   "source": [
    "## character count from the given file\n",
    "def wcount(filename,word):\n",
    "    c=0\n",
    "    with open (filename,'r') as f:\n",
    "        if f.mode=='r':\n",
    "            x=f.read()\n",
    "            li=x.split()\n",
    "    for i in range(len(li)):\n",
    "            cnt=li[i].count(word)\n",
    "            c=c+cnt\n",
    "    return c\n",
    "filename=input(\"enter the filename\")\n",
    "word=input(\"enter the word\")\n",
    "wcount(filename,word)"
   ]
  },
  {
   "cell_type": "code",
   "execution_count": 11,
   "metadata": {},
   "outputs": [
    {
     "name": "stdout",
     "output_type": "stream",
     "text": [
      "['pytho', ' programi', 'g']\n"
     ]
    }
   ],
   "source": [
    "s1='python programing'\n",
    "print(s1.split('n'))"
   ]
  },
  {
   "cell_type": "code",
   "execution_count": 12,
   "metadata": {},
   "outputs": [
    {
     "name": "stdout",
     "output_type": "stream",
     "text": [
      "enter the file namefile2.txt\n"
     ]
    },
    {
     "data": {
      "text/plain": [
       "32"
      ]
     },
     "execution_count": 12,
     "metadata": {},
     "output_type": "execute_result"
    }
   ],
   "source": [
    "## function to find the no of lines in the input files\n",
    "def numberoflines(filename):\n",
    "    lines=0\n",
    "    with open(filename,'r') as f:\n",
    "        if f.mode=='r':\n",
    "            for line in f:\n",
    "                lines+=1\n",
    "    return lines\n",
    "filename=input('enter the file name')\n",
    "numberoflines(filename)"
   ]
  },
  {
   "cell_type": "code",
   "execution_count": 20,
   "metadata": {},
   "outputs": [
    {
     "name": "stdout",
     "output_type": "stream",
     "text": [
      "enter the name of filefile2.txt\n"
     ]
    },
    {
     "data": {
      "text/plain": [
       "'Upper case=0,Lower case=314'"
      ]
     },
     "execution_count": 20,
     "metadata": {},
     "output_type": "execute_result"
    }
   ],
   "source": [
    "## function to print the upper and lower characters\n",
    "\n",
    "def casecount(filename):\n",
    "    cntUpper=0\n",
    "    cntLower=0\n",
    "    with open(filename,'r') as f:\n",
    "        if f.mode == 'r':\n",
    "            x=f.read()\n",
    "            li=list(x)\n",
    "    for i in li:\n",
    "        if i.isupper():\n",
    "            cntUpper += 1\n",
    "        elif i.islower():\n",
    "            cntLower += 1\n",
    "    output='Upper case={0},Lower case={1}'.format(cntUpper,cntLower)\n",
    "    return output\n",
    "filename=input('enter the name of file')\n",
    "casecount(filename)"
   ]
  },
  {
   "cell_type": "markdown",
   "metadata": {},
   "source": [
    "# # math,random,os\n",
    "--> os package it contains the certain methods which works with OS\n",
    "--> older version python: os.listdir()\n",
    "--> new version python: os.scandir() and pathlib.path()"
   ]
  },
  {
   "cell_type": "code",
   "execution_count": 21,
   "metadata": {},
   "outputs": [
    {
     "name": "stdout",
     "output_type": "stream",
     "text": [
      " Volume in drive C has no label.\n",
      " Volume Serial Number is C47C-A5DB\n",
      "\n",
      " Directory of C:\\Users\\250\n",
      "\n",
      "07/11/2019  06:03 PM    <DIR>          .\n",
      "07/11/2019  06:03 PM    <DIR>          ..\n",
      "05/08/2019  12:49 PM    <DIR>          .anaconda\n",
      "01/23/2017  01:51 PM    <DIR>          .android\n",
      "01/23/2017  01:45 PM    <DIR>          .AndroidStudio2.2\n",
      "03/14/2017  10:28 AM               145 .appletviewer\n",
      "06/19/2019  06:14 PM                21 .bash_history\n",
      "11/02/2017  03:27 PM                 0 .cdtclient\n",
      "07/06/2019  02:49 PM    <DIR>          .conda\n",
      "07/06/2019  02:49 PM                43 .condarc\n",
      "05/19/2019  12:21 PM    <DIR>          .continuum\n",
      "03/30/2017  10:42 AM    <DIR>          .gradle\n",
      "07/11/2019  02:40 PM    <DIR>          .ipynb_checkpoints\n",
      "05/08/2019  02:13 PM    <DIR>          .ipython\n",
      "05/14/2019  01:57 PM    <DIR>          .jupyter\n",
      "05/10/2019  03:44 PM    <DIR>          .matplotlib\n",
      "03/06/2019  11:13 AM    <DIR>          .oracle_jre_usage\n",
      "05/10/2019  03:45 PM    <DIR>          .spyder-py3\n",
      "07/10/2019  10:08 PM            18,438 10 july.ipynb\n",
      "12/06/2016  10:16 AM    <DIR>          2201315451\n",
      "05/08/2019  12:47 PM    <DIR>          Anaconda3\n",
      "01/23/2017  01:52 PM    <DIR>          AndroidStudioProjects\n",
      "11/23/2016  02:44 PM    <DIR>          Contacts\n",
      "12/06/2016  10:16 AM    <DIR>          cseb4_451\n",
      "07/06/2019  09:40 PM    <DIR>          Desktop\n",
      "06/27/2019  03:32 PM             3,450 desktop.ipynb\n",
      "05/19/2019  02:56 PM    <DIR>          Documents\n",
      "07/09/2019  02:51 PM    <DIR>          Downloads\n",
      "11/23/2016  02:44 PM    <DIR>          Favorites\n",
      "07/11/2019  03:30 PM                 9 file.txt\n",
      "07/11/2019  03:31 PM                 9 file1.txt\n",
      "07/11/2019  03:38 PM               504 file2.txt\n",
      "03/08/2019  02:14 PM               408 java.http\n",
      "03/08/2019  02:15 PM               408 java1.http\n",
      "07/10/2019  10:39 PM             6,859 july 10 assesment.ipynb\n",
      "07/11/2019  06:03 PM            13,793 july 11.ipynb\n",
      "07/08/2019  10:07 PM            15,606 july 8.ipynb\n",
      "07/10/2019  02:49 PM            13,574 july 9.ipynb\n",
      "05/18/2019  11:40 AM    <DIR>          Karthik\n",
      "11/23/2016  02:44 PM    <DIR>          Links\n",
      "11/23/2016  02:44 PM    <DIR>          Music\n",
      "11/23/2016  02:44 PM    <DIR>          Pictures\n",
      "11/23/2016  02:44 PM    <DIR>          Saved Games\n",
      "09/14/2018  09:07 AM    <DIR>          Searches\n",
      "06/21/2019  08:31 PM               555 Untitled.ipynb\n",
      "06/22/2019  04:06 PM               923 Untitled1.ipynb\n",
      "06/28/2019  03:27 PM             1,824 Untitled10.ipynb\n",
      "06/24/2019  03:30 PM               763 Untitled2.ipynb\n",
      "06/24/2019  04:39 PM             2,357 Untitled3.ipynb\n",
      "06/25/2019  05:44 PM             2,932 Untitled4.ipynb\n",
      "06/26/2019  04:20 PM             2,581 Untitled5.ipynb\n",
      "06/26/2019  03:09 PM               555 Untitled6.ipynb\n",
      "06/26/2019  03:55 PM               854 Untitled7.ipynb\n",
      "06/27/2019  03:27 PM             5,334 Untitled8.ipynb\n",
      "06/27/2019  03:13 PM               555 Untitled9.ipynb\n",
      "11/23/2016  02:44 PM    <DIR>          Videos\n",
      "06/25/2018  09:25 AM    <DIR>          workspace\n",
      "07/11/2019  04:01 PM                16 yahsu.txt\n",
      "              27 File(s)         92,516 bytes\n",
      "              31 Dir(s)  66,760,634,368 bytes free\n"
     ]
    }
   ],
   "source": [
    "ls\n"
   ]
  },
  {
   "cell_type": "code",
   "execution_count": 26,
   "metadata": {},
   "outputs": [
    {
     "data": {
      "text/plain": [
       "['.anaconda',\n",
       " '.android',\n",
       " '.AndroidStudio2.2',\n",
       " '.appletviewer',\n",
       " '.bash_history',\n",
       " '.cdtclient',\n",
       " '.conda',\n",
       " '.condarc',\n",
       " '.continuum',\n",
       " '.gradle',\n",
       " '.ipynb_checkpoints',\n",
       " '.ipython',\n",
       " '.jupyter',\n",
       " '.matplotlib',\n",
       " '.oracle_jre_usage',\n",
       " '.spyder-py3',\n",
       " '10 july.ipynb',\n",
       " '2201315451',\n",
       " 'Anaconda3',\n",
       " 'AndroidStudioProjects',\n",
       " 'AppData',\n",
       " 'Application Data',\n",
       " 'Contacts',\n",
       " 'Cookies',\n",
       " 'cseb4_451',\n",
       " 'Desktop',\n",
       " 'desktop.ipynb',\n",
       " 'Documents',\n",
       " 'Downloads',\n",
       " 'Favorites',\n",
       " 'file.txt',\n",
       " 'file1.txt',\n",
       " 'file2.txt',\n",
       " 'java.http',\n",
       " 'java1.http',\n",
       " 'july 10 assesment.ipynb',\n",
       " 'july 11.ipynb',\n",
       " 'july 8.ipynb',\n",
       " 'july 9.ipynb',\n",
       " 'Karthik',\n",
       " 'Links',\n",
       " 'Local Settings',\n",
       " 'Music',\n",
       " 'My Documents',\n",
       " 'NetHood',\n",
       " 'NTUSER.DAT',\n",
       " 'ntuser.dat.LOG1',\n",
       " 'ntuser.dat.LOG2',\n",
       " 'NTUSER.DAT{6cced2f1-6e01-11de-8bed-001e0bcd1824}.TM.blf',\n",
       " 'NTUSER.DAT{6cced2f1-6e01-11de-8bed-001e0bcd1824}.TMContainer00000000000000000001.regtrans-ms',\n",
       " 'NTUSER.DAT{6cced2f1-6e01-11de-8bed-001e0bcd1824}.TMContainer00000000000000000002.regtrans-ms',\n",
       " 'ntuser.ini',\n",
       " 'Pictures',\n",
       " 'PrintHood',\n",
       " 'Recent',\n",
       " 'Saved Games',\n",
       " 'Searches',\n",
       " 'SendTo',\n",
       " 'Start Menu',\n",
       " 'Templates',\n",
       " 'Untitled.ipynb',\n",
       " 'Untitled1.ipynb',\n",
       " 'Untitled10.ipynb',\n",
       " 'Untitled2.ipynb',\n",
       " 'Untitled3.ipynb',\n",
       " 'Untitled4.ipynb',\n",
       " 'Untitled5.ipynb',\n",
       " 'Untitled6.ipynb',\n",
       " 'Untitled7.ipynb',\n",
       " 'Untitled8.ipynb',\n",
       " 'Untitled9.ipynb',\n",
       " 'Videos',\n",
       " 'workspace',\n",
       " 'yahsu.txt']"
      ]
     },
     "execution_count": 26,
     "metadata": {},
     "output_type": "execute_result"
    }
   ],
   "source": [
    "import os\n",
    "os.listdir()"
   ]
  },
  {
   "cell_type": "code",
   "execution_count": 32,
   "metadata": {},
   "outputs": [
    {
     "data": {
      "text/plain": [
       "['.anaconda',\n",
       " '.android',\n",
       " '.AndroidStudio2.2',\n",
       " '.appletviewer',\n",
       " '.bash_history',\n",
       " '.cdtclient',\n",
       " '.conda',\n",
       " '.condarc',\n",
       " '.continuum',\n",
       " '.gradle',\n",
       " '.ipynb_checkpoints',\n",
       " '.ipython',\n",
       " '.jupyter',\n",
       " '.matplotlib',\n",
       " '.oracle_jre_usage',\n",
       " '.spyder-py3',\n",
       " '10 july.ipynb',\n",
       " '2201315451',\n",
       " 'Anaconda3',\n",
       " 'AndroidStudioProjects',\n",
       " 'AppData',\n",
       " 'Application Data',\n",
       " 'Contacts',\n",
       " 'Cookies',\n",
       " 'cseb4_451',\n",
       " 'Desktop',\n",
       " 'desktop.ipynb',\n",
       " 'Documents',\n",
       " 'Downloads',\n",
       " 'Favorites',\n",
       " 'file.txt',\n",
       " 'file1.txt',\n",
       " 'file2.txt',\n",
       " 'java.http',\n",
       " 'java1.http',\n",
       " 'july 10 assesment.ipynb',\n",
       " 'july 11.ipynb',\n",
       " 'july 8.ipynb',\n",
       " 'july 9.ipynb',\n",
       " 'Karthik',\n",
       " 'Links',\n",
       " 'Local Settings',\n",
       " 'Music',\n",
       " 'My Documents',\n",
       " 'NetHood',\n",
       " 'NTUSER.DAT',\n",
       " 'ntuser.dat.LOG1',\n",
       " 'ntuser.dat.LOG2',\n",
       " 'NTUSER.DAT{6cced2f1-6e01-11de-8bed-001e0bcd1824}.TM.blf',\n",
       " 'NTUSER.DAT{6cced2f1-6e01-11de-8bed-001e0bcd1824}.TMContainer00000000000000000001.regtrans-ms',\n",
       " 'NTUSER.DAT{6cced2f1-6e01-11de-8bed-001e0bcd1824}.TMContainer00000000000000000002.regtrans-ms',\n",
       " 'ntuser.ini',\n",
       " 'Pictures',\n",
       " 'PrintHood',\n",
       " 'Recent',\n",
       " 'Saved Games',\n",
       " 'Searches',\n",
       " 'SendTo',\n",
       " 'Start Menu',\n",
       " 'Templates',\n",
       " 'Untitled.ipynb',\n",
       " 'Untitled1.ipynb',\n",
       " 'Untitled10.ipynb',\n",
       " 'Untitled2.ipynb',\n",
       " 'Untitled3.ipynb',\n",
       " 'Untitled4.ipynb',\n",
       " 'Untitled5.ipynb',\n",
       " 'Untitled6.ipynb',\n",
       " 'Untitled7.ipynb',\n",
       " 'Untitled8.ipynb',\n",
       " 'Untitled9.ipynb',\n",
       " 'Videos',\n",
       " 'workspace',\n",
       " 'yahsu.txt']"
      ]
     },
     "execution_count": 32,
     "metadata": {},
     "output_type": "execute_result"
    }
   ],
   "source": [
    "import os\n",
    "os.listdir('250/')"
   ]
  },
  {
   "cell_type": "markdown",
   "metadata": {},
   "source": [
    "# creating a single directory\n"
   ]
  },
  {
   "cell_type": "code",
   "execution_count": null,
   "metadata": {},
   "outputs": [],
   "source": [
    "import os\n",
    "os.mkdir(\"singleDirectory\")"
   ]
  },
  {
   "cell_type": "code",
   "execution_count": 5,
   "metadata": {},
   "outputs": [],
   "source": [
    "import pathlib\n",
    "p=pathlib.Path('gitam-python')\n",
    "p.mkdir()"
   ]
  },
  {
   "cell_type": "code",
   "execution_count": 35,
   "metadata": {},
   "outputs": [
    {
     "name": "stdout",
     "output_type": "stream",
     "text": [
      "bin\n",
      "cmd\n",
      "dev\n",
      "etc\n",
      "mingw32\n",
      "tmp\n",
      "usr\n"
     ]
    }
   ],
   "source": [
    "dirpath='C:\\Program Files\\Git/'\n",
    "with os.scandir(dirpath)as f:\n",
    "    for i in f:\n",
    "        if i.is_dir():\n",
    "            print(i.name)"
   ]
  },
  {
   "cell_type": "code",
   "execution_count": 4,
   "metadata": {},
   "outputs": [
    {
     "name": "stdout",
     "output_type": "stream",
     "text": [
      "C:\\Users\\250\\git\n"
     ]
    }
   ],
   "source": [
    "cd git"
   ]
  },
  {
   "cell_type": "code",
   "execution_count": 6,
   "metadata": {},
   "outputs": [
    {
     "name": "stdout",
     "output_type": "stream",
     "text": [
      "C:\\Users\\250\\git\\gitam-python\n"
     ]
    }
   ],
   "source": [
    "cd gitam-python"
   ]
  },
  {
   "cell_type": "code",
   "execution_count": 7,
   "metadata": {},
   "outputs": [
    {
     "name": "stdout",
     "output_type": "stream",
     "text": [
      " Volume in drive C has no label.\n",
      " Volume Serial Number is C47C-A5DB\n",
      "\n",
      " Directory of C:\\Users\\250\\git\\gitam-python\n",
      "\n",
      "07/11/2019  03:05 PM    <DIR>          .\n",
      "07/11/2019  03:05 PM    <DIR>          ..\n",
      "               0 File(s)              0 bytes\n",
      "               2 Dir(s)  66,126,876,672 bytes free\n"
     ]
    }
   ],
   "source": [
    "ls"
   ]
  },
  {
   "cell_type": "code",
   "execution_count": 8,
   "metadata": {},
   "outputs": [
    {
     "data": {
      "text/plain": [
       "'C:\\\\Users\\\\250\\\\git\\\\gitam-python'"
      ]
     },
     "execution_count": 8,
     "metadata": {},
     "output_type": "execute_result"
    }
   ],
   "source": [
    "pwd"
   ]
  },
  {
   "cell_type": "markdown",
   "metadata": {},
   "source": [
    "# filename pattern matching"
   ]
  },
  {
   "cell_type": "code",
   "execution_count": null,
   "metadata": {},
   "outputs": [],
   "source": [
    "import os\n",
    "dirpath='git/'\n",
    "for f_name in os.listdir(dirpath):\n",
    "    if f_name.startswith('0'):\n",
    "        print(f_name)\n"
   ]
  },
  {
   "cell_type": "markdown",
   "metadata": {},
   "source": [
    "# deleting files and directories\n"
   ]
  },
  {
   "cell_type": "code",
   "execution_count": null,
   "metadata": {},
   "outputs": [],
   "source": [
    "import os\n",
    "data_file='file1.txt'#gives the entire path\n",
    "os.remove(data_file)"
   ]
  },
  {
   "cell_type": "code",
   "execution_count": null,
   "metadata": {},
   "outputs": [],
   "source": [
    "import shutil\n",
    "data_dir=2019\n",
    "shutil"
   ]
  },
  {
   "cell_type": "markdown",
   "metadata": {},
   "source": [
    "# regular expressions\n",
    "--> used to specific pattern matching\n",
    "--> symbolic notations of pattern"
   ]
  }
 ],
 "metadata": {
  "kernelspec": {
   "display_name": "Python 3",
   "language": "python",
   "name": "python3"
  },
  "language_info": {
   "codemirror_mode": {
    "name": "ipython",
    "version": 3
   },
   "file_extension": ".py",
   "mimetype": "text/x-python",
   "name": "python",
   "nbconvert_exporter": "python",
   "pygments_lexer": "ipython3",
   "version": "3.7.3"
  }
 },
 "nbformat": 4,
 "nbformat_minor": 2
}
